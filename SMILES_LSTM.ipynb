{
 "cells": [
  {
   "cell_type": "code",
   "execution_count": 1,
   "metadata": {
    "collapsed": false
   },
   "outputs": [
    {
     "name": "stderr",
     "output_type": "stream",
     "text": [
      "Using Theano backend.\n"
     ]
    }
   ],
   "source": [
    "import numpy as np\n",
    "from keras.models import Sequential\n",
    "from keras.layers import Dense,LSTM,Dropout\n",
    "from keras.layers.wrappers import TimeDistributed\n",
    "import pandas as pd\n",
    "from keras.callbacks import ModelCheckpoint\n",
    "from keras.utils import np_utils"
   ]
  },
  {
   "cell_type": "code",
   "execution_count": 2,
   "metadata": {
    "collapsed": true
   },
   "outputs": [],
   "source": [
    "##seed for random number reproduction\n",
    "np.random.seed(2017)"
   ]
  },
  {
   "cell_type": "code",
   "execution_count": 3,
   "metadata": {
    "collapsed": false
   },
   "outputs": [],
   "source": [
    "##time step addtition to feature \n",
    "def dimX(x,ts):\n",
    "    x=np.asarray(x)\n",
    "    newX=[]\n",
    "    for i, c in enumerate(x):\n",
    "        newX.append([])\n",
    "        for j in range(ts):\n",
    "            newX[i].append(c)\n",
    "    return np.array(newX)\n",
    "\n",
    "##time step addtition to target\n",
    "def dimY(Y,ts):\n",
    "    temp = np.zeros((len(Y), ts, len(chars)), dtype=np.bool)\n",
    "    for i, c in enumerate(Y):\n",
    "        for j, s in enumerate(c):\n",
    "            #print i, j, s\n",
    "            temp[i, j, char_idx[s]] = 1\n",
    "    return np.array(temp)\n",
    "\n",
    "#prediction of argmax\n",
    "def prediction(preds):\n",
    "    y_pred=[]\n",
    "    for i,c in enumerate(preds):\n",
    "        y_pred.append([])\n",
    "        for j in c:\n",
    "            y_pred[i].append(np.argmax(j))\n",
    "    return np.array(y_pred)\n",
    "\n",
    "##sequence to text conversion\n",
    "def seq_txt(y_pred):\n",
    "    newY=[]\n",
    "    for i,c in enumerate(y_pred):\n",
    "        newY.append([])\n",
    "        for j in c:\n",
    "            newY[i].append(idx_char[j])\n",
    "    \n",
    "    return np.array(newY)\n",
    "    \n",
    "##joined smiles output\n",
    "def smiles_output(s):\n",
    "    smiles=np.array([])\n",
    "    for i in s:\n",
    "        j=''.join(str(k) for k in i)\n",
    "        smiles=np.append(smiles,j)\n",
    "    return smiles"
   ]
  },
  {
   "cell_type": "code",
   "execution_count": 4,
   "metadata": {
    "collapsed": false
   },
   "outputs": [
    {
     "data": {
      "text/plain": [
       "numpy.ndarray"
      ]
     },
     "execution_count": 4,
     "metadata": {},
     "output_type": "execute_result"
    }
   ],
   "source": [
    "##read csv file\n",
    "data = pd.read_csv('stahl-dataset.csv')\n",
    "data=data.reindex(np.random.permutation(data.index))\n",
    "\n",
    "# Extract SMILES Srings and the labelled target vector\n",
    "Y=data.SMILES\n",
    "Y.head()\n",
    "X=data.ix[:,1:7]\n",
    "X=X.values\n",
    "X=X.astype('int')\n",
    "type(X)"
   ]
  },
  {
   "cell_type": "code",
   "execution_count": 5,
   "metadata": {
    "collapsed": false
   },
   "outputs": [
    {
     "name": "stdout",
     "output_type": "stream",
     "text": [
      "[[1 0 0 0 0 0]\n",
      " [1 0 0 0 0 0]\n",
      " [1 0 0 0 0 0]\n",
      " ..., \n",
      " [0 1 0 0 0 0]\n",
      " [1 0 0 0 0 0]\n",
      " [1 0 0 0 0 0]]\n",
      "21     N[S](=O)(=O)C1=CC=C(C=C1)C2=CC(=N[N]2C3=CC=C(F...\n",
      "30     C[S](=O)(=O)C1=CC=C(C=C1)C2=C(C=C(F)C(=C2)F)C3...\n",
      "102    C[S](=O)(=O)C1=CC=C(C=C1)C2=C(C(=C)C2)C3=CC=CC=C3\n",
      "250    CCC(CC)NC1=NC(=CC=N1)C2=C(N=C[N]2C3CC[NH](C)CC...\n",
      "299         CCOC1=C(Cl)C2=C(C=C(C=C2)[NH+]=C(N)N)C(=O)O1\n",
      "Name: SMILES, dtype: object\n"
     ]
    }
   ],
   "source": [
    "print(X)\n",
    "print(Y.head())"
   ]
  },
  {
   "cell_type": "code",
   "execution_count": 6,
   "metadata": {
    "collapsed": false
   },
   "outputs": [
    {
     "name": "stdout",
     "output_type": "stream",
     "text": [
      "('total chars:', 25)\n"
     ]
    }
   ],
   "source": [
    "## create mapping of unique SMILES characters to integers\n",
    "##padding smiles to same length by adding \"|\" at the end of smiles\n",
    "\n",
    "maxY=Y.str.len().max()\n",
    "y=Y.str.ljust(maxY, fillchar='|')\n",
    "ts=y.str.len().max()\n",
    "\n",
    "##CharToIndex and IndexToChar functions\n",
    "chars = sorted(list( set(\"\".join(y.values.flatten()))))\n",
    "print('total chars:', len(chars))\n",
    "char_idx= dict((c, i) for i, c in enumerate(chars))\n",
    "idx_char = dict((i, c) for i, c in enumerate(chars))\n",
    "\n",
    "y_dash=dimY(y,ts)\n",
    "x_dash=dimX(X,ts) "
   ]
  },
  {
   "cell_type": "code",
   "execution_count": 7,
   "metadata": {
    "collapsed": false
   },
   "outputs": [
    {
     "name": "stdout",
     "output_type": "stream",
     "text": [
      "(None, 105, 6)\n",
      "(None, 105, 25)\n"
     ]
    }
   ],
   "source": [
    "## Define the LSTM model   \n",
    "model = Sequential()\n",
    "model.add(TimeDistributed(Dense(x_dash.shape[1]), input_shape=(x_dash.shape[1],x_dash.shape[2])))\n",
    "model.add(LSTM(216, return_sequences=True))\n",
    "model.add(Dropout(0.3))\n",
    "model.add(LSTM(216, return_sequences=True))\n",
    "model.add(TimeDistributed(Dense(y_dash.shape[2], activation='softmax')))\n",
    "model.compile(loss='categorical_crossentropy', optimizer='adam')\n",
    "\n",
    "print model.input_shape\n",
    "print model.output_shape\n",
    "\n",
    "\n",
    "#model.load_weights(\"drugai.h5\")"
   ]
  },
  {
   "cell_type": "code",
   "execution_count": 10,
   "metadata": {
    "collapsed": false
   },
   "outputs": [
    {
     "name": "stdout",
     "output_type": "stream",
     "text": [
      "Epoch 1/50\n",
      "335/335 [==============================] - 9s - loss: 1.3249     \n",
      "Epoch 2/50\n",
      "335/335 [==============================] - 7s - loss: 1.3273     \n",
      "Epoch 3/50\n",
      "335/335 [==============================] - 7s - loss: 1.3161     \n",
      "Epoch 4/50\n",
      "335/335 [==============================] - 6s - loss: 1.3236     \n",
      "Epoch 5/50\n",
      "335/335 [==============================] - 6s - loss: 1.3205     \n",
      "Epoch 6/50\n",
      "335/335 [==============================] - 6s - loss: 1.3150     \n",
      "Epoch 7/50\n",
      "335/335 [==============================] - 8s - loss: 1.3116     \n",
      "Epoch 8/50\n",
      "335/335 [==============================] - 7s - loss: 1.3079     \n",
      "Epoch 9/50\n",
      "335/335 [==============================] - 7s - loss: 1.3039     \n",
      "Epoch 10/50\n",
      "335/335 [==============================] - 7s - loss: 1.3056     \n",
      "Epoch 11/50\n",
      "335/335 [==============================] - 7s - loss: 1.3073     \n",
      "Epoch 12/50\n",
      "335/335 [==============================] - 6s - loss: 1.3038     \n",
      "Epoch 13/50\n",
      "335/335 [==============================] - 7s - loss: 1.2977     \n",
      "Epoch 14/50\n",
      "335/335 [==============================] - 6s - loss: 1.2965     \n",
      "Epoch 15/50\n",
      "335/335 [==============================] - 7s - loss: 1.2993     \n",
      "Epoch 16/50\n",
      "335/335 [==============================] - 7s - loss: 1.2934     \n",
      "Epoch 17/50\n",
      "335/335 [==============================] - 7s - loss: 1.2935     \n",
      "Epoch 18/50\n",
      "335/335 [==============================] - 7s - loss: 1.2888     \n",
      "Epoch 19/50\n",
      "335/335 [==============================] - 7s - loss: 1.2870     \n",
      "Epoch 20/50\n",
      "335/335 [==============================] - 7s - loss: 1.2875     \n",
      "Epoch 21/50\n",
      "335/335 [==============================] - 7s - loss: 1.3026     \n",
      "Epoch 22/50\n",
      "335/335 [==============================] - 7s - loss: 1.3064     \n",
      "Epoch 23/50\n",
      "335/335 [==============================] - 7s - loss: 1.2852     \n",
      "Epoch 24/50\n",
      "335/335 [==============================] - 6s - loss: 1.2815     \n",
      "Epoch 25/50\n",
      "335/335 [==============================] - 7s - loss: 1.2778     \n",
      "Epoch 26/50\n",
      "335/335 [==============================] - 7s - loss: 1.2769     \n",
      "Epoch 27/50\n",
      "335/335 [==============================] - 7s - loss: 1.2743     \n",
      "Epoch 28/50\n",
      "335/335 [==============================] - 7s - loss: 1.2707     \n",
      "Epoch 29/50\n",
      "335/335 [==============================] - 6s - loss: 1.2693     \n",
      "Epoch 30/50\n",
      "335/335 [==============================] - 7s - loss: 1.2714     \n",
      "Epoch 31/50\n",
      "335/335 [==============================] - 7s - loss: 1.2738     \n",
      "Epoch 32/50\n",
      "335/335 [==============================] - 7s - loss: 1.2667     \n",
      "Epoch 33/50\n",
      "335/335 [==============================] - 6s - loss: 1.2672     \n",
      "Epoch 34/50\n",
      "335/335 [==============================] - 6s - loss: 1.2610     \n",
      "Epoch 35/50\n",
      "335/335 [==============================] - 7s - loss: 1.2624     \n",
      "Epoch 36/50\n",
      "335/335 [==============================] - 6s - loss: 1.2624     \n",
      "Epoch 37/50\n",
      "335/335 [==============================] - 6s - loss: 1.2603     \n",
      "Epoch 38/50\n",
      "335/335 [==============================] - 6s - loss: 1.2593     \n",
      "Epoch 39/50\n",
      "335/335 [==============================] - 6s - loss: 1.2589     \n",
      "Epoch 40/50\n",
      "335/335 [==============================] - 7s - loss: 1.2619     \n",
      "Epoch 41/50\n",
      "335/335 [==============================] - 7s - loss: 1.2550     \n",
      "Epoch 42/50\n",
      "335/335 [==============================] - 7s - loss: 1.2620     \n",
      "Epoch 43/50\n",
      "335/335 [==============================] - 7s - loss: 1.2534     \n",
      "Epoch 44/50\n",
      "335/335 [==============================] - 6s - loss: 1.2522     \n",
      "Epoch 45/50\n",
      "335/335 [==============================] - 6s - loss: 1.2529     \n",
      "Epoch 46/50\n",
      "335/335 [==============================] - 7s - loss: 1.2484     \n",
      "Epoch 47/50\n",
      "335/335 [==============================] - 6s - loss: 1.2538     \n",
      "Epoch 48/50\n",
      "335/335 [==============================] - 6s - loss: 1.2548     \n",
      "Epoch 49/50\n",
      "335/335 [==============================] - 6s - loss: 1.2502     \n",
      "Epoch 50/50\n",
      "335/335 [==============================] - 6s - loss: 1.2470     \n"
     ]
    }
   ],
   "source": [
    "##For Training uncomment the training section\n",
    "#start training\n",
    "\n",
    "model.fit(x_dash,y_dash, nb_epoch=50)\n",
    "\n",
    "##Epoch 20/20\n",
    "##335/335 [==============================] - 31s - loss: 1.3319\n",
    "## Save the model to the checkpoint file \n",
    "model.save('molgen.h5')\n"
   ]
  },
  {
   "cell_type": "code",
   "execution_count": 11,
   "metadata": {
    "collapsed": false
   },
   "outputs": [
    {
     "name": "stdout",
     "output_type": "stream",
     "text": [
      "[ 'CC(()))CCCCCCCCCCCCCCCCCCCCCCCCCC))||||||||||||||||||||||||||||||||||||||||||||||||||||||||||||||||||||||']\n"
     ]
    }
   ],
   "source": [
    "##For Prediction\n",
    "## Generate SMILES with the built LSTM model\n",
    "## basically we feed the model with a pre-defined labelled target vector\n",
    "## the model will output a string of SMILES characters\n",
    "\n",
    "#start Prediction\n",
    "x_pred=[[0,0,0,1,0,0]]\n",
    "x_pred=dimX(x_pred,ts)      \n",
    "preds=model.predict(x_pred)\n",
    "y_pred=prediction(preds)\n",
    "y_pred=seq_txt(y_pred)\n",
    "\n",
    "\n",
    "s=smiles_output(y_pred)\n",
    "print s\n",
    "#end prediction"
   ]
  },
  {
   "cell_type": "code",
   "execution_count": null,
   "metadata": {
    "collapsed": true
   },
   "outputs": [],
   "source": []
  },
  {
   "cell_type": "code",
   "execution_count": null,
   "metadata": {
    "collapsed": true
   },
   "outputs": [],
   "source": []
  }
 ],
 "metadata": {
  "kernelspec": {
   "display_name": "Python 2",
   "language": "python",
   "name": "python2"
  },
  "language_info": {
   "codemirror_mode": {
    "name": "ipython",
    "version": 2
   },
   "file_extension": ".py",
   "mimetype": "text/x-python",
   "name": "python",
   "nbconvert_exporter": "python",
   "pygments_lexer": "ipython2",
   "version": "2.7.12"
  }
 },
 "nbformat": 4,
 "nbformat_minor": 0
}
